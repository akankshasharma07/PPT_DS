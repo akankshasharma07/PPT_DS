{
 "cells": [
  {
   "cell_type": "markdown",
   "id": "253baa88",
   "metadata": {},
   "source": [
    "### PPT Assignment Day 2 (Python)"
   ]
  },
  {
   "cell_type": "markdown",
   "id": "9d253ad7",
   "metadata": {},
   "source": [
    "1. Write a Python program to reverse a string without using any built-in string reversal functions?"
   ]
  },
  {
   "cell_type": "code",
   "execution_count": 1,
   "id": "d6426f1e",
   "metadata": {},
   "outputs": [
    {
     "name": "stdout",
     "output_type": "stream",
     "text": [
      "Reversed string: atpuG namA \n"
     ]
    }
   ],
   "source": [
    "my_string= (\"Aman Gupta\")\n",
    "str= \" \"\n",
    "for i in my_string:\n",
    "    str= i+str\n",
    "print(\"Reversed string:\", str)"
   ]
  },
  {
   "cell_type": "markdown",
   "id": "7c6ff5a1",
   "metadata": {},
   "source": [
    "2. Implement a function to check if a given string is a palindrome?"
   ]
  },
  {
   "cell_type": "code",
   "execution_count": 2,
   "id": "06272266",
   "metadata": {},
   "outputs": [
    {
     "name": "stdout",
     "output_type": "stream",
     "text": [
      "enter string:nitin\n",
      "the string is a palindrome\n"
     ]
    }
   ],
   "source": [
    "def ispalindrome(string):\n",
    "    if(string==string[::-1]):\n",
    "        return (\"the string is a palindrome\")\n",
    "    else:\n",
    "        return (\"the string is not a palindrome\")\n",
    "    \n",
    "string= input(\"enter string:\")\n",
    "print(ispalindrome(string))"
   ]
  },
  {
   "cell_type": "markdown",
   "id": "619b7a17",
   "metadata": {},
   "source": [
    "3. Write a program to find the largest element in a given list?"
   ]
  },
  {
   "cell_type": "code",
   "execution_count": 3,
   "id": "e4b7d0a4",
   "metadata": {},
   "outputs": [
    {
     "name": "stdout",
     "output_type": "stream",
     "text": [
      "Largest elements is : 99\n"
     ]
    }
   ],
   "source": [
    "list=[10,20,4,45,99]\n",
    "print(\"Largest elements is :\", max(list))"
   ]
  },
  {
   "cell_type": "markdown",
   "id": "7f338821",
   "metadata": {},
   "source": [
    "4. Implement a function to count the occurrence of each element in a list?\n"
   ]
  },
  {
   "cell_type": "code",
   "execution_count": 4,
   "id": "7e18c464",
   "metadata": {},
   "outputs": [
    {
     "name": "stdout",
     "output_type": "stream",
     "text": [
      "8 has occurred 5 times\n"
     ]
    }
   ],
   "source": [
    "def countX(a, x):\n",
    "    return a.count(x)\n",
    " \n",
    " \n",
    "# Driver code \n",
    "a = [8, 6, 8, 10, 8, 20, 10, 8, 8]\n",
    "x = 8\n",
    "print('{} has occurred {} times'.format(x,countX(a, x)))"
   ]
  },
  {
   "cell_type": "markdown",
   "id": "0d8abcdd",
   "metadata": {},
   "source": [
    "5. Write a Python program to find the second largest number in a list?\n"
   ]
  },
  {
   "cell_type": "code",
   "execution_count": 5,
   "id": "e7fb960c",
   "metadata": {},
   "outputs": [
    {
     "name": "stdout",
     "output_type": "stream",
     "text": [
      "second largest elements: 45\n"
     ]
    }
   ],
   "source": [
    "list= [10,20,4,45,99]\n",
    "list.sort()\n",
    "print(\"second largest elements:\", list[-2])"
   ]
  },
  {
   "cell_type": "markdown",
   "id": "5c2d413a",
   "metadata": {},
   "source": [
    "6. Implement a function to remove duplicate elements from a list?\n"
   ]
  },
  {
   "cell_type": "code",
   "execution_count": 6,
   "id": "96682903",
   "metadata": {},
   "outputs": [
    {
     "name": "stdout",
     "output_type": "stream",
     "text": [
      "[2, 4, 10, 20, 52]\n"
     ]
    }
   ],
   "source": [
    "def remove(duplicate):\n",
    "    list=[]\n",
    "    for i in duplicate:\n",
    "        if i not in list:\n",
    "            list.append(i)\n",
    "    return list\n",
    "duplicate=[2,4,10,20,52,20,4]\n",
    "print(remove(duplicate))"
   ]
  },
  {
   "cell_type": "markdown",
   "id": "39918638",
   "metadata": {},
   "source": [
    "7. Write a program to calculate the factorial of a given number?\n"
   ]
  },
  {
   "cell_type": "code",
   "execution_count": 7,
   "id": "fd01045c",
   "metadata": {},
   "outputs": [
    {
     "name": "stdout",
     "output_type": "stream",
     "text": [
      "factorial of given number is: 1\n"
     ]
    }
   ],
   "source": [
    "def findfactorial(num):\n",
    "    if (num==0 or num==1):\n",
    "        return 1\n",
    "    \n",
    "    return num*findfactorial(nmu-1)   ###n! = n*(n-1)\n",
    "\n",
    "num=1\n",
    "result= findfactorial(num)\n",
    "print(\"factorial of given number is:\", result)\n",
    "\n",
    "        "
   ]
  },
  {
   "cell_type": "markdown",
   "id": "a0695c2c",
   "metadata": {},
   "source": [
    "8. Implement a function to check if a given number is prime?\n"
   ]
  },
  {
   "cell_type": "code",
   "execution_count": 8,
   "id": "c994b4f7",
   "metadata": {},
   "outputs": [
    {
     "name": "stdout",
     "output_type": "stream",
     "text": [
      "given number is a prime number: False\n"
     ]
    }
   ],
   "source": [
    "def isprimenumber(n):\n",
    "    if n<2:\n",
    "        return False\n",
    "    \n",
    "    for i in range(2,n):\n",
    "        if n%i==0:\n",
    "            return False\n",
    "        \n",
    "    return True\n",
    "n=15\n",
    "result= isprimenumber(n)\n",
    "print(\"given number is a prime number:\", result)"
   ]
  },
  {
   "cell_type": "markdown",
   "id": "2fa34713",
   "metadata": {},
   "source": [
    "9. Write a Python program to sort a list of integers in ascending order?"
   ]
  },
  {
   "cell_type": "code",
   "execution_count": 9,
   "id": "014a2f08",
   "metadata": {},
   "outputs": [
    {
     "name": "stdout",
     "output_type": "stream",
     "text": [
      "List in Ascending Order:  [1, 2, 3, 4, 5, 6, 7, 8, 9, 10]\n"
     ]
    }
   ],
   "source": [
    "number = [1, 5, 3, 4, 2, 10, 6, 8, 7, 9]\n",
    "number.sort()\n",
    "print('List in Ascending Order: ', number)\n"
   ]
  },
  {
   "cell_type": "markdown",
   "id": "ad085066",
   "metadata": {},
   "source": [
    "10. Implement a function to find the sum of all numbers in a list?\n"
   ]
  },
  {
   "cell_type": "code",
   "execution_count": 10,
   "id": "6e629cfb",
   "metadata": {},
   "outputs": [
    {
     "name": "stdout",
     "output_type": "stream",
     "text": [
      "20\n"
     ]
    }
   ],
   "source": [
    "def sum(numbers):\n",
    "    total = 0\n",
    "    for x in numbers:\n",
    "        total += x\n",
    "    return total\n",
    "print(sum((8, 2, 3, 0, 7)))"
   ]
  },
  {
   "cell_type": "markdown",
   "id": "15a5a771",
   "metadata": {},
   "source": [
    "11. Write a program to find the common elements between two lists?\n"
   ]
  },
  {
   "cell_type": "code",
   "execution_count": 11,
   "id": "7757851b",
   "metadata": {},
   "outputs": [
    {
     "name": "stdout",
     "output_type": "stream",
     "text": [
      "the common elements in the two lists are :\n",
      "[5]\n"
     ]
    }
   ],
   "source": [
    "def common_member(a,b):\n",
    "    result=[i for i in a if i in b]\n",
    "    return result\n",
    "a = [1,2,3,4,5]\n",
    "b = [5,6,7,8,9]\n",
    "print(\"the common elements in the two lists are :\")\n",
    "print(common_member(a,b))"
   ]
  },
  {
   "cell_type": "markdown",
   "id": "17d44c90",
   "metadata": {},
   "source": [
    "12. Implement a function to check if a given string is an anagram of another string?\n"
   ]
  },
  {
   "cell_type": "code",
   "execution_count": 12,
   "id": "9d840a22",
   "metadata": {},
   "outputs": [
    {
     "name": "stdout",
     "output_type": "stream",
     "text": [
      "enter the first string:qwerty\n",
      "enter the second string:ytrewq\n",
      "the strings are anagram\n"
     ]
    }
   ],
   "source": [
    "def check(s1,s2):\n",
    "    if (sorted(s1)== sorted(s2)):\n",
    "        print(\"the strings are anagram\")\n",
    "    else:\n",
    "        print(\"the strings ar not anagram\")\n",
    "s1 = (input(\"enter the first string:\"))\n",
    "s2 = (input(\"enter the second string:\"))\n",
    "check(s1,s2)"
   ]
  },
  {
   "cell_type": "markdown",
   "id": "3b6b8a3d",
   "metadata": {},
   "source": [
    "13. Write a Python program to generate all permutations of a given string?"
   ]
  },
  {
   "cell_type": "code",
   "execution_count": null,
   "id": "76d2afbb",
   "metadata": {},
   "outputs": [],
   "source": []
  },
  {
   "cell_type": "markdown",
   "id": "9f00922f",
   "metadata": {},
   "source": [
    "14. Implement a function to calculate the Fibonacci sequence up to a given number of terms?"
   ]
  },
  {
   "cell_type": "code",
   "execution_count": 13,
   "id": "fdfef905",
   "metadata": {},
   "outputs": [
    {
     "ename": "SyntaxError",
     "evalue": "invalid syntax (708980178.py, line 6)",
     "output_type": "error",
     "traceback": [
      "\u001b[1;36m  Input \u001b[1;32mIn [13]\u001b[1;36m\u001b[0m\n\u001b[1;33m    elifn==0:\u001b[0m\n\u001b[1;37m             ^\u001b[0m\n\u001b[1;31mSyntaxError\u001b[0m\u001b[1;31m:\u001b[0m invalid syntax\n"
     ]
    }
   ],
   "source": [
    "def cal_fibonacci(n):\n",
    "    a=0\n",
    "    b=1\n",
    "    if(n<0):\n",
    "        print(\"please enter positive number\")\n",
    "    elifn==0:\n",
    "        return a\n",
    "    elif n==1:\n",
    "        return b\n",
    "    else:\n",
    "        for i in range(2,n+1):\n",
    "            c=a+b\n",
    "            a=b\n",
    "            b=c\n",
    "        return b\n",
    "cal_fibonacci(10)"
   ]
  },
  {
   "cell_type": "markdown",
   "id": "a8a95256",
   "metadata": {},
   "source": [
    "15. Write a program to find the median of a list of numbers?"
   ]
  },
  {
   "cell_type": "code",
   "execution_count": 14,
   "id": "589a2843",
   "metadata": {},
   "outputs": [
    {
     "name": "stdout",
     "output_type": "stream",
     "text": [
      "median of sorted array is 50.5\n"
     ]
    }
   ],
   "source": [
    "import numpy as np\n",
    "def find_median(list1):\n",
    "    median=np.median(list1)\n",
    "    return median\n",
    "\n",
    "list1=[12,89,45,13,56,78]\n",
    "results=find_median(list1)\n",
    "print(\"median of sorted array is\", results)"
   ]
  },
  {
   "cell_type": "markdown",
   "id": "35ef2eee",
   "metadata": {},
   "source": [
    "16. Implement a function to check if a given list is sorted in non-decreasing order?"
   ]
  },
  {
   "cell_type": "code",
   "execution_count": 15,
   "id": "edba47d3",
   "metadata": {},
   "outputs": [
    {
     "name": "stdout",
     "output_type": "stream",
     "text": [
      "sorted in ascending order above list is: [12, 13, 45, 56, 78, 89]\n"
     ]
    }
   ],
   "source": [
    "nums= [12,89,45,13,56,78]\n",
    "results = sorted(nums)\n",
    "print(\"sorted in ascending order above list is:\", results)"
   ]
  },
  {
   "cell_type": "markdown",
   "id": "2ec42e94",
   "metadata": {},
   "source": [
    "17. Write a Python program to find the intersection of two lists?"
   ]
  },
  {
   "cell_type": "code",
   "execution_count": 16,
   "id": "2188c0d9",
   "metadata": {},
   "outputs": [
    {
     "name": "stdout",
     "output_type": "stream",
     "text": [
      "Intersection between list1 and list2 are : [12, 13, 45, 56, 78, 89]\n"
     ]
    }
   ],
   "source": [
    "def intersection(list1,list2):\n",
    "    return list(set(list1)&set(list2))\n",
    "\n",
    "list1=[12,89,45,13,56,78]\n",
    "list2=[2,89,54,65,78,55]\n",
    "print(\"Intersection between list1 and list2 are :\", results)"
   ]
  },
  {
   "cell_type": "markdown",
   "id": "7b5dcb02",
   "metadata": {},
   "source": [
    "18. Implement a function to find the maximum subarray sum in a given list?"
   ]
  },
  {
   "cell_type": "code",
   "execution_count": null,
   "id": "f197a20e",
   "metadata": {},
   "outputs": [],
   "source": []
  },
  {
   "cell_type": "markdown",
   "id": "e2227328",
   "metadata": {},
   "source": [
    "19. Write a program to remove all vowels from a given string?"
   ]
  },
  {
   "cell_type": "code",
   "execution_count": 17,
   "id": "8f34da60",
   "metadata": {},
   "outputs": [
    {
     "name": "stdout",
     "output_type": "stream",
     "text": [
      "vowels removed string is: w\n"
     ]
    }
   ],
   "source": [
    "def remove_vowels(str):\n",
    "    vowels= 'aeiouAEIOU'\n",
    "    result = \"\"\n",
    "    for char in str:\n",
    "        if char not in vowels:\n",
    "            result +=char\n",
    "            \n",
    "        return result\n",
    "str= \"write a program to remove all vowels from a given string\"\n",
    "print(\"vowels removed string is:\", remove_vowels(str))"
   ]
  },
  {
   "cell_type": "markdown",
   "id": "c44e31c5",
   "metadata": {},
   "source": [
    "20. Implement a function to reverse the order of words in a given sentence."
   ]
  },
  {
   "cell_type": "code",
   "execution_count": null,
   "id": "57aec908",
   "metadata": {},
   "outputs": [],
   "source": [
    "def reverse_sentence(sentence):\n",
    "    words = sentence.split()\n",
    "    reversed_words = words[::-1]\n",
    "    reversed_sentences= ' '.join(reversed_words)\n",
    "    return  reversed_sentences\n",
    "\n",
    "sentence = \"Implement  a function to reverse the order of words in a given sentence\"\n",
    "reversed_sentence= reverse_sentence(sentence)\n",
    "print(\"Reversed sentence:\", reversed_sentence)"
   ]
  },
  {
   "cell_type": "markdown",
   "id": "78d50daa",
   "metadata": {},
   "source": [
    "21. Write a Python program to check if two strings are anagrams of each other."
   ]
  },
  {
   "cell_type": "code",
   "execution_count": null,
   "id": "6f0e96d2",
   "metadata": {},
   "outputs": [],
   "source": [
    "def is_anagram(string1,string2):\n",
    "    sorted_str1=sorted(string1)\n",
    "    sorted_str2=sorted(string2)\n",
    "    if len(sorted_str1)==len(sorted_str2):\n",
    "        print(\"Yes they are an anagram\")\n",
    "        \n",
    "string1= \"pradeep singh\".replace(\" \",\"\").lower()\n",
    "string2= \"singh pradeep\".replace(\" \",\"\").lower()\n",
    "result= is_anagram(string1,string2)"
   ]
  },
  {
   "cell_type": "markdown",
   "id": "12676bb9",
   "metadata": {},
   "source": [
    "22. Implement a function to find the first non-repeating character in a string.\n"
   ]
  },
  {
   "cell_type": "markdown",
   "id": "596429cf",
   "metadata": {},
   "source": [
    "23. Write a program to find the prime factors of a given number."
   ]
  },
  {
   "cell_type": "markdown",
   "id": "ddd82b9b",
   "metadata": {},
   "source": [
    "24. Implement a function to check if a given number is a power of two."
   ]
  },
  {
   "cell_type": "code",
   "execution_count": null,
   "id": "627badf7",
   "metadata": {},
   "outputs": [],
   "source": [
    "def is_power_of_two(number):\n",
    "    if number<=0:\n",
    "        return False\n",
    "    elif number==1:\n",
    "        return True\n",
    "    else:\n",
    "        return (number & (number-1)==0)\n",
    "\n",
    "#Example usage\n",
    "num=15\n",
    "\n",
    "if is_power_of_two(num):\n",
    "    print(num, \"is a power of two.\")\n",
    "else:\n",
    "    print(num,\"is not a power of two.\")"
   ]
  },
  {
   "cell_type": "markdown",
   "id": "42b45bb0",
   "metadata": {},
   "source": [
    "25. Write a Python program to merge two sorted lists into a single sorted list?\n"
   ]
  },
  {
   "cell_type": "code",
   "execution_count": null,
   "id": "f43b3e76",
   "metadata": {},
   "outputs": [],
   "source": [
    "list1=[12,89,45,13,56,78]\n",
    "list2=[2,89,54,65,78,55]\n",
    "sorted_list1=sorted(list1)\n",
    "sorted_list2=sorted(list2)\n",
    "single_sorted_list=sorted_list1+sorted_list2\n",
    "single_sorted_list"
   ]
  },
  {
   "cell_type": "markdown",
   "id": "a4036a45",
   "metadata": {},
   "source": [
    "26. Implement a function to find the mode of a list of numbers."
   ]
  },
  {
   "cell_type": "code",
   "execution_count": null,
   "id": "8bd5939d",
   "metadata": {},
   "outputs": [],
   "source": [
    "import statistics\n",
    "def find_mode(numbers):\n",
    "    modes=statistics.multimode(numbers)\n",
    "    return modes\n",
    "\n",
    "numbers = [1,4,5,5,4,6,6,2,4,3]\n",
    "result=find_mode(numbers)\n",
    "print(\"mode of a given list is:\", result)"
   ]
  },
  {
   "cell_type": "markdown",
   "id": "cb52e766",
   "metadata": {},
   "source": [
    "27. Write a program to find the greatest common divisor (GCD) of two numbers.\n"
   ]
  },
  {
   "cell_type": "code",
   "execution_count": null,
   "id": "f747c830",
   "metadata": {},
   "outputs": [],
   "source": [
    "import math\n",
    "num1=15\n",
    "num2=105\n",
    "gcd=math.gcd(num1,num2)\n",
    "\n",
    "print(\"The greatest common divisor (GCD) of two numbers\", gcd)"
   ]
  },
  {
   "cell_type": "markdown",
   "id": "471b7b4c",
   "metadata": {},
   "source": [
    "28. Implement a function to calculate the square root of a given number."
   ]
  },
  {
   "cell_type": "code",
   "execution_count": null,
   "id": "a827af92",
   "metadata": {},
   "outputs": [],
   "source": [
    "def cal_square_root(x):\n",
    "    return x**0.5\n",
    "x=27\n",
    "results= cal_square_root(x)\n",
    "print(\"square root of a given number is:\", results)"
   ]
  },
  {
   "cell_type": "markdown",
   "id": "1bc5ec59",
   "metadata": {},
   "source": [
    "29. Write a Python program to check if a given string is a valid palindrome ignoring non-alphanumeric characters."
   ]
  },
  {
   "cell_type": "markdown",
   "id": "ac37aa2b",
   "metadata": {},
   "source": [
    "30. Implement a function to find the minimum element in a rotated sorted list."
   ]
  },
  {
   "cell_type": "code",
   "execution_count": null,
   "id": "4321f6e1",
   "metadata": {},
   "outputs": [],
   "source": [
    "def find_min_element(list):\n",
    "    minimum_number = min(list)\n",
    "    return minimum_number\n",
    "\n",
    "list= [4,5,6,7,1,2,3]\n",
    "results=find_min_element(list)\n",
    "print(\"the minimum element in a rotated sorted list is:\", results)"
   ]
  },
  {
   "cell_type": "markdown",
   "id": "a8c7fe18",
   "metadata": {},
   "source": [
    "31. Write a program to find the sum of all even numbers in a list."
   ]
  },
  {
   "cell_type": "code",
   "execution_count": null,
   "id": "c558e562",
   "metadata": {},
   "outputs": [],
   "source": [
    "#def sum_all_even_num(number):\n",
    "    sum_even=0\n",
    "    for i in number:\n",
    "        if i%2==0:\n",
    "            sum_even+=i\n",
    "    return sum_even\n",
    "a=int(input(\"enter the number: \"))\n",
    "result=sum_all_even_num(number)\n",
    "print(\"the sum of all even numbers in list:\", result)\n",
    "\n",
    "    "
   ]
  },
  {
   "cell_type": "markdown",
   "id": "cea3173a",
   "metadata": {},
   "source": [
    "32. Implement a function to calculate the power of a number using recursion."
   ]
  },
  {
   "cell_type": "code",
   "execution_count": null,
   "id": "06281d25",
   "metadata": {},
   "outputs": [],
   "source": [
    "def power(base,exponent):\n",
    "    if exponent==0:\n",
    "        return 1\n",
    "    else:\n",
    "        return base* power(base, exponent -1)\n",
    "base = 2\n",
    "exponent = 10\n",
    "result= power (base, exponent)\n",
    "print(\"the power of given number is:\", result)"
   ]
  },
  {
   "cell_type": "markdown",
   "id": "2f3f0e1b",
   "metadata": {},
   "source": [
    "33. Write a Python program to remove duplicates from a list while preserving the order."
   ]
  },
  {
   "cell_type": "markdown",
   "id": "c9d71bba",
   "metadata": {},
   "source": [
    "34. Implement a function to find the longest common prefix among a list of strings."
   ]
  },
  {
   "cell_type": "markdown",
   "id": "045fa05b",
   "metadata": {},
   "source": [
    "35. Write a program to check if a given number is a perfect square."
   ]
  },
  {
   "cell_type": "code",
   "execution_count": null,
   "id": "a7f44524",
   "metadata": {},
   "outputs": [],
   "source": [
    "num = int(input(\"enter the number: \"))\n",
    "for i in range(n+1):\n",
    "    if i**2==n:\n",
    "        print(\"yes\")\n",
    "        break\n",
    "else:\n",
    "    print(\"no\")"
   ]
  },
  {
   "cell_type": "markdown",
   "id": "b495baaa",
   "metadata": {},
   "source": [
    "36. Implement a function to calculate the product of all elements in a list."
   ]
  },
  {
   "cell_type": "code",
   "execution_count": null,
   "id": "9af16815",
   "metadata": {},
   "outputs": [],
   "source": [
    "def find_sum_digits(number):\n",
    "    str_num= str(number)\n",
    "    sum_digits =1\n",
    "    for digit_char in str_num:\n",
    "        digit = int(digit_char)\n",
    "        sum_digits *=digit\n",
    "    return sum_digits\n",
    "\n",
    "number = 956\n",
    "result = find_sum_digits(number)\n",
    "print(\"sum of digits of given number is :\", result)"
   ]
  },
  {
   "cell_type": "markdown",
   "id": "c8c2f7d2",
   "metadata": {},
   "source": [
    "37. Write a Python program to reverse the order of words in a sentence while preserving the word order."
   ]
  },
  {
   "cell_type": "code",
   "execution_count": null,
   "id": "025de040",
   "metadata": {},
   "outputs": [],
   "source": [
    "def reversewordsentence(sentence):\n",
    "    words= sentence.split(\" \")\n",
    "    newwords=[word[::-1] for word in words]\n",
    "    newsentence = \" \".join(newwords)\n",
    "    return newsentence\n",
    "sentence= \"geeksforgreeks is good to learn\"\n",
    "print(reversewordsentence(sentence))"
   ]
  },
  {
   "cell_type": "markdown",
   "id": "3ca7fd38",
   "metadata": {},
   "source": [
    "38. Implement a function to find the missing number in a given list of consecutive numbers."
   ]
  },
  {
   "cell_type": "code",
   "execution_count": null,
   "id": "679867f5",
   "metadata": {},
   "outputs": [],
   "source": [
    "def missingnumber(n):\n",
    "    numbers = set(n)\n",
    "    length = len(n)\n",
    "    output = []\n",
    "    for i in range(1, n[-1]):\n",
    "        if i not in numbers:\n",
    "            output.append(i)\n",
    "        return output\n",
    "listofnumbers = [1,2,3,5,6,7,8,9,10,11,13,14,16]\n",
    "print(find missing numbers(list of numbers))"
   ]
  },
  {
   "cell_type": "markdown",
   "id": "df073a25",
   "metadata": {},
   "source": [
    "39. Write a program to find the sum of digits of a given number.\n"
   ]
  },
  {
   "cell_type": "code",
   "execution_count": null,
   "id": "3b7f6dd1",
   "metadata": {},
   "outputs": [],
   "source": [
    "def find_sum_digits(number):\n",
    "    str_num=str(number)\n",
    "    sum_digits=0\n",
    "    for digit_char in str_num:\n",
    "        digit=int(digit_char)\n",
    "        sum_digits +=digit\n",
    "    return sum_digits\n",
    "\n",
    "number = 956\n",
    "result = find_sum_digits(number)\n",
    "print(\"sum of digits of a given number is: \", result)"
   ]
  },
  {
   "cell_type": "markdown",
   "id": "5516ff34",
   "metadata": {},
   "source": [
    "40. Implement a function to check if a given string is a valid palindrome considering case sensitivity.\n"
   ]
  },
  {
   "cell_type": "markdown",
   "id": "d5f9dddc",
   "metadata": {},
   "source": [
    "41. Write a Python program to find the smallest missing positive integer in a list.\n"
   ]
  },
  {
   "cell_type": "markdown",
   "id": "79a09167",
   "metadata": {},
   "source": [
    "42. Implement a function to find the longest palindrome substring in a given string.\n"
   ]
  },
  {
   "cell_type": "markdown",
   "id": "e36a90cf",
   "metadata": {},
   "source": [
    "43. Write a program to find the number of occurrences of a given element in a list.\n"
   ]
  },
  {
   "cell_type": "code",
   "execution_count": null,
   "id": "6b02e2c8",
   "metadata": {},
   "outputs": [],
   "source": [
    "mylist = [2,3,2,3,4,2,3,2,3,5,6]\n",
    "mylist.count(2)\n",
    "mylist.count(3)"
   ]
  },
  {
   "cell_type": "markdown",
   "id": "39081510",
   "metadata": {},
   "source": [
    "44. Implement a function to check if a given number is a perfect number.\n"
   ]
  },
  {
   "cell_type": "code",
   "execution_count": null,
   "id": "5d0dc32d",
   "metadata": {},
   "outputs": [],
   "source": [
    "def isperfectnumber(number):\n",
    "    sum_divisors=0\n",
    "    for i in range (1,number//2+1):\n",
    "        if number%i==0:\n",
    "            sum_divisors+=i\n",
    "            \n",
    "    return sum_divisors==number\n",
    "number =6\n",
    "result= isperfectnumber(number)\n",
    "print(\"given number is perfect number: \", result)"
   ]
  },
  {
   "cell_type": "markdown",
   "id": "d6b4e4f5",
   "metadata": {},
   "source": [
    "45. Write a Python program to remove all duplicates from a string.\n"
   ]
  },
  {
   "cell_type": "code",
   "execution_count": null,
   "id": "7c381dc3",
   "metadata": {},
   "outputs": [],
   "source": [
    "string= \"geeksforgeeks\"\n",
    "p= \" \"\n",
    "for i in string:\n",
    "    if i not in p:\n",
    "        p=p+i\n",
    "print(p)\n",
    "k=list(\"geeksforgeeks\")"
   ]
  },
  {
   "cell_type": "markdown",
   "id": "3cc74b25",
   "metadata": {},
   "source": [
    "46. Implement a function to find the first missing positive?\n"
   ]
  },
  {
   "cell_type": "code",
   "execution_count": null,
   "id": "dc5459c4",
   "metadata": {},
   "outputs": [],
   "source": []
  }
 ],
 "metadata": {
  "kernelspec": {
   "display_name": "Python 3 (ipykernel)",
   "language": "python",
   "name": "python3"
  },
  "language_info": {
   "codemirror_mode": {
    "name": "ipython",
    "version": 3
   },
   "file_extension": ".py",
   "mimetype": "text/x-python",
   "name": "python",
   "nbconvert_exporter": "python",
   "pygments_lexer": "ipython3",
   "version": "3.9.12"
  }
 },
 "nbformat": 4,
 "nbformat_minor": 5
}
